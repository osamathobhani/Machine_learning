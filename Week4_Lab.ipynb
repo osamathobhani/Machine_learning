{
 "cells": [
  {
   "cell_type": "code",
   "execution_count": 1,
   "id": "661faf59-336c-4f10-bc21-579040daa3cb",
   "metadata": {},
   "outputs": [],
   "source": [
    "from sklearn.datasets import load_iris\n",
    "from sklearn.linear_model import LinearRegression\n",
    "from sklearn.model_selection import KFold\n",
    "from sklearn.metrics import mean_squared_error\n",
    "import numpy as np\n",
    "# Importing necessary libraries\n"
   ]
  },
  {
   "cell_type": "code",
   "execution_count": 2,
   "id": "8578c7a0-a68f-44c3-8cb6-486309b6ef38",
   "metadata": {},
   "outputs": [],
   "source": [
    "iris = load_iris() # Loading the Iris dataset\n"
   ]
  },
  {
   "cell_type": "code",
   "execution_count": 3,
   "id": "d0cabc0c-4edf-4fe1-9b6b-72cd7d9e27f2",
   "metadata": {},
   "outputs": [],
   "source": [
    "X, y = iris.data, iris.target"
   ]
  },
  {
   "cell_type": "code",
   "execution_count": 4,
   "id": "15d8cfcf-b792-43c6-baac-6b086d9d6f84",
   "metadata": {},
   "outputs": [],
   "source": [
    "kf = KFold(n_splits=5, shuffle=True, random_state=42) # Creating a KFold cross-validation object with 5 splits, shuffling the data, and setting a random seed\n"
   ]
  },
  {
   "cell_type": "code",
   "execution_count": 5,
   "id": "0b8af70e-f8b2-4866-bda1-aa3fe7c4a5a0",
   "metadata": {},
   "outputs": [],
   "source": [
    " # Creating a Linear Regression model\n",
    "model = LinearRegression()"
   ]
  },
  {
   "cell_type": "code",
   "execution_count": 6,
   "id": "391527cd-098e-4d78-bdb7-923d2fdee116",
   "metadata": {},
   "outputs": [],
   "source": [
    "# Looping through each fold in the KFold object\n",
    "scores = []\n",
    "for train_index, test_index in kf.split(X):\n",
    "    X_train, X_test = X[train_index], X[test_index]\n",
    "    y_train, y_test = y[train_index], y[test_index]\n",
    "    \n",
    "    # Modeli eğit\n",
    "    model.fit(X_train, y_train)\n",
    "    \n",
    "    y_pred = model.predict(X_test)\n",
    "    score = mean_squared_error(y_test, y_pred)\n",
    "    scores.append(score)"
   ]
  },
  {
   "cell_type": "code",
   "execution_count": 7,
   "id": "0916cc67-6fba-43bf-bba2-e929901599ab",
   "metadata": {},
   "outputs": [],
   "source": [
    "mean_score = np.mean(scores)"
   ]
  },
  {
   "cell_type": "code",
   "execution_count": 8,
   "id": "27f747a4-b48f-4139-8605-1d06653a6bed",
   "metadata": {},
   "outputs": [
    {
     "name": "stdout",
     "output_type": "stream",
     "text": [
      "K-fold cross validation result:  [0.037113794407976894, 0.04287733169764373, 0.053395130468897614, 0.0631642504489177, 0.04779460065443833]\n",
      "Mean Score:  0.04886902153557486\n"
     ]
    }
   ],
   "source": [
    "print(\"K-fold cross validation result: \", scores)\n",
    "print(\"Mean Score: \", mean_score)"
   ]
  },
  {
   "cell_type": "code",
   "execution_count": null,
   "id": "c6efc20e-8a98-4965-83f1-42009d191caa",
   "metadata": {},
   "outputs": [],
   "source": []
  }
 ],
 "metadata": {
  "kernelspec": {
   "display_name": "Python 3 (ipykernel)",
   "language": "python",
   "name": "python3"
  },
  "language_info": {
   "codemirror_mode": {
    "name": "ipython",
    "version": 3
   },
   "file_extension": ".py",
   "mimetype": "text/x-python",
   "name": "python",
   "nbconvert_exporter": "python",
   "pygments_lexer": "ipython3",
   "version": "3.11.5"
  }
 },
 "nbformat": 4,
 "nbformat_minor": 5
}
